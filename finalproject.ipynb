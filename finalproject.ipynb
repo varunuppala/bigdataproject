{
 "cells": [
  {
   "cell_type": "markdown",
   "metadata": {},
   "source": [
    "# Mounting data (for Databricks ONLY!)"
   ]
  },
  {
   "cell_type": "code",
   "execution_count": null,
   "metadata": {
    "application/vnd.databricks.v1+cell": {
     "inputWidgets": {},
     "nuid": "c4a3892b-5962-4db3-bf62-c0defc56008d",
     "showTitle": false,
     "title": ""
    }
   },
   "outputs": [
    {
     "data": {
      "text/html": [
       "<style scoped>\n",
       "  .ansiout {\n",
       "    display: block;\n",
       "    unicode-bidi: embed;\n",
       "    white-space: pre-wrap;\n",
       "    word-wrap: break-word;\n",
       "    word-break: break-all;\n",
       "    font-family: \"Source Code Pro\", \"Menlo\", monospace;;\n",
       "    font-size: 13px;\n",
       "    color: #555;\n",
       "    margin-left: 4px;\n",
       "    line-height: 19px;\n",
       "  }\n",
       "</style>\n",
       "<div class=\"ansiout\">Out[1]: True</div>"
      ]
     },
     "metadata": {
      "application/vnd.databricks.v1+output": {
       "addedWidgets": {},
       "arguments": {},
       "data": "<div class=\"ansiout\">Out[1]: True</div>",
       "datasetInfos": [],
       "removedWidgets": [],
       "type": "html"
      }
     },
     "output_type": "display_data"
    }
   ],
   "source": [
    "#Mounting the data for further use.\n",
    "dbutils.fs.mount(\n",
    "    source = \"wasbs://public@bigdatateaching.blob.core.windows.net/project-data/\",\n",
    "    mount_point = \"/mnt/project-data/\",\n",
    "    extra_configs = {\"fs.azure.account.key.bigdatateaching.blob.core.windows.net\": \"o5z1o5By3dDrLNdiTXglUg6LpjmlhLCxMqNb2/dPBXHvSOiH3R0q2+fACMPxSLmCd0V+sXsFm7jl0UraFR3GUA==\"})"
   ]
  },
  {
   "cell_type": "markdown",
   "metadata": {},
   "source": [
    "# AWS Version"
   ]
  },
  {
   "cell_type": "markdown",
   "metadata": {},
   "source": [
    "## Intializing a Spark Session"
   ]
  },
  {
   "cell_type": "code",
   "execution_count": 1,
   "metadata": {},
   "outputs": [],
   "source": [
    "import findspark\n",
    "findspark.init()\n",
    "\n",
    "from pyspark.sql import SparkSession\n",
    "spark = SparkSession.builder.appName(\"project\").getOrCreate()"
   ]
  },
  {
   "cell_type": "code",
   "execution_count": 2,
   "metadata": {},
   "outputs": [
    {
     "data": {
      "text/html": [
       "\n",
       "            <div>\n",
       "                <p><b>SparkSession - in-memory</b></p>\n",
       "                \n",
       "        <div>\n",
       "            <p><b>SparkContext</b></p>\n",
       "\n",
       "            <p><a href=\"http://ip-172-31-27-45.ec2.internal:4040\">Spark UI</a></p>\n",
       "\n",
       "            <dl>\n",
       "              <dt>Version</dt>\n",
       "                <dd><code>v2.4.4</code></dd>\n",
       "              <dt>Master</dt>\n",
       "                <dd><code>yarn</code></dd>\n",
       "              <dt>AppName</dt>\n",
       "                <dd><code>project</code></dd>\n",
       "            </dl>\n",
       "        </div>\n",
       "        \n",
       "            </div>\n",
       "        "
      ],
      "text/plain": [
       "<pyspark.sql.session.SparkSession at 0x7f8614d71450>"
      ]
     },
     "execution_count": 2,
     "metadata": {},
     "output_type": "execute_result"
    }
   ],
   "source": [
    "spark"
   ]
  },
  {
   "cell_type": "markdown",
   "metadata": {},
   "source": [
    "### Reading the search_click table\n",
    "#### using 'tab' as a delimiter since they are tab seperated values."
   ]
  },
  {
   "cell_type": "code",
   "execution_count": 3,
   "metadata": {
    "application/vnd.databricks.v1+cell": {
     "inputWidgets": {},
     "nuid": "8279d678-ca71-46dc-8742-b806ec8744de",
     "showTitle": false,
     "title": ""
    }
   },
   "outputs": [],
   "source": [
    "#Reading the search_click table\n",
    "#using 'tab' as a delimiter since they are tab seperated values.\n",
    "search_click = spark.read.format('csv').option('header', 'true').option('inferSchema', 'true').option(\"delimiter\", \"\\t\").load('s3://bigdatateaching/project-data/search_click.txt')"
   ]
  },
  {
   "cell_type": "markdown",
   "metadata": {},
   "source": [
    "##### Checking the Schema of the search_click table."
   ]
  },
  {
   "cell_type": "code",
   "execution_count": 4,
   "metadata": {
    "application/vnd.databricks.v1+cell": {
     "inputWidgets": {},
     "nuid": "cbc64d64-b9b3-47d4-a0a2-fbbc805ce488",
     "showTitle": false,
     "title": ""
    }
   },
   "outputs": [
    {
     "name": "stdout",
     "output_type": "stream",
     "text": [
      "root\n",
      " |-- SearchID: integer (nullable = true)\n",
      " |-- AdID: integer (nullable = true)\n",
      " |-- Position: integer (nullable = true)\n",
      " |-- ObjectType: integer (nullable = true)\n",
      " |-- HistCTR: double (nullable = true)\n",
      " |-- IsClick: integer (nullable = true)\n",
      "\n"
     ]
    }
   ],
   "source": [
    "search_click.printSchema()"
   ]
  },
  {
   "cell_type": "markdown",
   "metadata": {},
   "source": [
    "### Reading the combined_stream table\n",
    "#### using 'tab' as a delimiter since they are tab seperated values."
   ]
  },
  {
   "cell_type": "code",
   "execution_count": 5,
   "metadata": {
    "application/vnd.databricks.v1+cell": {
     "inputWidgets": {},
     "nuid": "f5193c61-f5b6-4e24-965b-58ab6d50662e",
     "showTitle": false,
     "title": ""
    }
   },
   "outputs": [],
   "source": [
    "combined_stream = spark.read.format('csv').option('header', 'true').option('inferSchema', 'true').option(\"delimiter\", \"\\t\").load('s3://bigdatateaching/project-data/combined_stream.txt')"
   ]
  },
  {
   "cell_type": "markdown",
   "metadata": {},
   "source": [
    "##### Checking the Schema of the combined_stream table."
   ]
  },
  {
   "cell_type": "code",
   "execution_count": 6,
   "metadata": {
    "application/vnd.databricks.v1+cell": {
     "inputWidgets": {},
     "nuid": "66138fe9-126e-461c-b8d6-87e9b6406c21",
     "showTitle": false,
     "title": ""
    }
   },
   "outputs": [
    {
     "name": "stdout",
     "output_type": "stream",
     "text": [
      "root\n",
      " |-- UserID: integer (nullable = true)\n",
      " |-- IPID: integer (nullable = true)\n",
      " |-- AdID: integer (nullable = true)\n",
      " |-- ViewDate: timestamp (nullable = true)\n",
      " |-- Source: string (nullable = true)\n",
      "\n"
     ]
    }
   ],
   "source": [
    "combined_stream.printSchema()"
   ]
  },
  {
   "cell_type": "markdown",
   "metadata": {},
   "source": [
    "### Reading the search_info table\n",
    "#### using 'tab' as a delimiter since they are tab seperated values."
   ]
  },
  {
   "cell_type": "code",
   "execution_count": 7,
   "metadata": {
    "application/vnd.databricks.v1+cell": {
     "inputWidgets": {},
     "nuid": "1bb87531-004c-4b45-929d-4ad03ad44b9a",
     "showTitle": false,
     "title": ""
    }
   },
   "outputs": [],
   "source": [
    "search_info = spark.read.format('csv').option('header', 'true').option('inferSchema', 'true').option(\"delimiter\", \"\\t\").load('s3://bigdatateaching/project-data/search_info.txt')"
   ]
  },
  {
   "cell_type": "markdown",
   "metadata": {},
   "source": [
    "##### Checking the Schema of the serach_info table."
   ]
  },
  {
   "cell_type": "code",
   "execution_count": 8,
   "metadata": {
    "application/vnd.databricks.v1+cell": {
     "inputWidgets": {},
     "nuid": "6a719e4e-42a2-4df0-9e69-8c2c8a9707d6",
     "showTitle": false,
     "title": ""
    }
   },
   "outputs": [
    {
     "name": "stdout",
     "output_type": "stream",
     "text": [
      "root\n",
      " |-- SearchID: integer (nullable = true)\n",
      " |-- SearchDate: timestamp (nullable = true)\n",
      " |-- IPID: integer (nullable = true)\n",
      " |-- UserID: integer (nullable = true)\n",
      " |-- IsUserLoggedOn: integer (nullable = true)\n",
      " |-- SearchQuery: string (nullable = true)\n",
      " |-- LocationID: integer (nullable = true)\n",
      " |-- CategoryID: integer (nullable = true)\n",
      " |-- SearchParams: string (nullable = true)\n",
      "\n"
     ]
    }
   ],
   "source": [
    "search_info.printSchema()"
   ]
  },
  {
   "cell_type": "markdown",
   "metadata": {},
   "source": [
    "#### Reading the ad_info table\n",
    "##### using 'tab' as a delimiter since they are tab seperated values."
   ]
  },
  {
   "cell_type": "code",
   "execution_count": 9,
   "metadata": {
    "application/vnd.databricks.v1+cell": {
     "inputWidgets": {},
     "nuid": "e0060f8f-be72-4a33-b3f8-9b5635d8dcf2",
     "showTitle": false,
     "title": ""
    }
   },
   "outputs": [],
   "source": [
    "ad_info = spark.read.format('csv').option('header', 'true').option('inferSchema', 'true').option(\"delimiter\", \"\\t\").load('s3://bigdatateaching/project-data/ad_info.txt')"
   ]
  },
  {
   "cell_type": "markdown",
   "metadata": {},
   "source": [
    "##### Checking the Schema of the ad_info table."
   ]
  },
  {
   "cell_type": "code",
   "execution_count": 10,
   "metadata": {
    "application/vnd.databricks.v1+cell": {
     "inputWidgets": {},
     "nuid": "4da2572b-00c2-4c20-818f-5ebd36ee14a9",
     "showTitle": false,
     "title": ""
    }
   },
   "outputs": [
    {
     "name": "stdout",
     "output_type": "stream",
     "text": [
      "root\n",
      " |-- AdID: integer (nullable = true)\n",
      " |-- LocationID: integer (nullable = true)\n",
      " |-- CategoryID: integer (nullable = true)\n",
      " |-- Params: string (nullable = true)\n",
      " |-- Price: double (nullable = true)\n",
      " |-- Title: string (nullable = true)\n",
      " |-- IsContext: integer (nullable = true)\n",
      "\n"
     ]
    }
   ],
   "source": [
    "ad_info.printSchema()"
   ]
  },
  {
   "cell_type": "markdown",
   "metadata": {},
   "source": [
    "### Reading the user_info table\n",
    "##### using 'tab' as a delimiter since they are tab seperated values."
   ]
  },
  {
   "cell_type": "code",
   "execution_count": 11,
   "metadata": {
    "application/vnd.databricks.v1+cell": {
     "inputWidgets": {},
     "nuid": "4285e6cb-52df-4f6a-973c-3bb413840b55",
     "showTitle": false,
     "title": ""
    }
   },
   "outputs": [],
   "source": [
    "user_info = spark.read.format('csv').option('header', 'true').option('inferSchema', 'true').option(\"delimiter\", \"\\t\").load('s3://bigdatateaching/project-data/user_info.txt')"
   ]
  },
  {
   "cell_type": "markdown",
   "metadata": {},
   "source": [
    "##### Checking the Schema of the user_info table."
   ]
  },
  {
   "cell_type": "code",
   "execution_count": 12,
   "metadata": {
    "application/vnd.databricks.v1+cell": {
     "inputWidgets": {},
     "nuid": "2071cabe-4ad9-4076-9a53-38c07e2f1c54",
     "showTitle": false,
     "title": ""
    }
   },
   "outputs": [
    {
     "name": "stdout",
     "output_type": "stream",
     "text": [
      "root\n",
      " |-- UserID: integer (nullable = true)\n",
      " |-- UserAgentID: integer (nullable = true)\n",
      " |-- UserAgentOSID: integer (nullable = true)\n",
      " |-- UserDeviceID: integer (nullable = true)\n",
      " |-- UserAgentFamilyID: integer (nullable = true)\n",
      "\n"
     ]
    }
   ],
   "source": [
    "user_info.printSchema()"
   ]
  },
  {
   "cell_type": "markdown",
   "metadata": {},
   "source": [
    "### Reading the location table\n",
    "#### using 'tab' as a delimiter since they are tab seperated values."
   ]
  },
  {
   "cell_type": "code",
   "execution_count": 13,
   "metadata": {
    "application/vnd.databricks.v1+cell": {
     "inputWidgets": {},
     "nuid": "195bf301-86be-45b3-9eb7-fea991ea857d",
     "showTitle": false,
     "title": ""
    }
   },
   "outputs": [],
   "source": [
    "location = spark.read.format('csv').option('header', 'true').option('inferSchema', 'true').option(\"delimiter\", \"\\t\").load('s3://bigdatateaching/project-data/location.txt')"
   ]
  },
  {
   "cell_type": "markdown",
   "metadata": {},
   "source": [
    "##### Checking the Schema of the location table."
   ]
  },
  {
   "cell_type": "code",
   "execution_count": 14,
   "metadata": {
    "application/vnd.databricks.v1+cell": {
     "inputWidgets": {},
     "nuid": "e5261fae-0351-43a3-867f-755e4350a55c",
     "showTitle": false,
     "title": ""
    }
   },
   "outputs": [
    {
     "name": "stdout",
     "output_type": "stream",
     "text": [
      "root\n",
      " |-- LocationID: integer (nullable = true)\n",
      " |-- Level: integer (nullable = true)\n",
      " |-- RegionID: integer (nullable = true)\n",
      " |-- CityID: integer (nullable = true)\n",
      "\n"
     ]
    }
   ],
   "source": [
    "location.printSchema()"
   ]
  },
  {
   "cell_type": "markdown",
   "metadata": {},
   "source": [
    "### Reading the category table\n",
    "#### using 'tab' as a delimiter since they are tab seperated values."
   ]
  },
  {
   "cell_type": "code",
   "execution_count": 15,
   "metadata": {
    "application/vnd.databricks.v1+cell": {
     "inputWidgets": {},
     "nuid": "ecde155d-a195-4fbc-807c-6f8d316cfce9",
     "showTitle": false,
     "title": ""
    }
   },
   "outputs": [],
   "source": [
    "category = spark.read.format('csv').option('header', 'true').option('inferSchema', 'true').option(\"delimiter\", \"\\t\").load('s3://bigdatateaching/project-data/category.txt')"
   ]
  },
  {
   "cell_type": "markdown",
   "metadata": {},
   "source": [
    "##### Checking the Schema of the category table."
   ]
  },
  {
   "cell_type": "code",
   "execution_count": 16,
   "metadata": {
    "application/vnd.databricks.v1+cell": {
     "inputWidgets": {},
     "nuid": "84e237a9-86e3-462f-adae-4d48dee3235b",
     "showTitle": false,
     "title": ""
    }
   },
   "outputs": [
    {
     "name": "stdout",
     "output_type": "stream",
     "text": [
      "root\n",
      " |-- CategoryID: integer (nullable = true)\n",
      " |-- Level: integer (nullable = true)\n",
      " |-- ParentCategoryID: integer (nullable = true)\n",
      " |-- SubcategoryID: integer (nullable = true)\n",
      "\n"
     ]
    }
   ],
   "source": [
    "category.printSchema()"
   ]
  },
  {
   "cell_type": "markdown",
   "metadata": {},
   "source": [
    "### Reading Libraries for Manipulation and Visualisation"
   ]
  },
  {
   "cell_type": "code",
   "execution_count": 17,
   "metadata": {
    "application/vnd.databricks.v1+cell": {
     "inputWidgets": {},
     "nuid": "6cb4eedd-686b-44ee-980a-f04896fe93c4",
     "showTitle": false,
     "title": ""
    }
   },
   "outputs": [],
   "source": [
    "import seaborn as se\n",
    "import matplotlib.pyplot as plt\n",
    "import pandas as pd"
   ]
  },
  {
   "cell_type": "markdown",
   "metadata": {
    "application/vnd.databricks.v1+cell": {
     "inputWidgets": {},
     "nuid": "25ac0e6f-8206-4a4a-bbbc-2616e8a6bb27",
     "showTitle": false,
     "title": ""
    }
   },
   "source": [
    "## Printing 1 row of all the Tables"
   ]
  },
  {
   "cell_type": "code",
   "execution_count": 19,
   "metadata": {
    "application/vnd.databricks.v1+cell": {
     "inputWidgets": {},
     "nuid": "c95643ff-aa8c-48f4-a4f4-b52297a9123c",
     "showTitle": false,
     "title": ""
    }
   },
   "outputs": [
    {
     "name": "stdout",
     "output_type": "stream",
     "text": [
      "+--------+-------------------+-------+-------+--------------+-----------+----------+----------+------------+\n",
      "|SearchID|         SearchDate|   IPID| UserID|IsUserLoggedOn|SearchQuery|LocationID|CategoryID|SearchParams|\n",
      "+--------+-------------------+-------+-------+--------------+-----------+----------+----------+------------+\n",
      "|       1|2015-05-18 19:54:32|1717090|3640266|             0|       null|      1729|         5|        null|\n",
      "+--------+-------------------+-------+-------+--------------+-----------+----------+----------+------------+\n",
      "only showing top 1 row\n",
      "\n",
      "+------+-------+------+-------------------+------+\n",
      "|UserID|   IPID|  AdID|           ViewDate|Source|\n",
      "+------+-------+------+-------------------+------+\n",
      "| 59703|1259356|469877|2015-04-25 00:00:00| visit|\n",
      "+------+-------+------+-------------------+------+\n",
      "only showing top 1 row\n",
      "\n",
      "+--------+--------+--------+----------+--------+-------+\n",
      "|SearchID|    AdID|Position|ObjectType| HistCTR|IsClick|\n",
      "+--------+--------+--------+----------+--------+-------+\n",
      "|       2|11441863|       1|         3|0.001804|      0|\n",
      "+--------+--------+--------+----------+--------+-------+\n",
      "only showing top 1 row\n",
      "\n"
     ]
    }
   ],
   "source": [
    "search_info.show(1)\n",
    "combined_stream.show(1)\n",
    "search_click.show(1)"
   ]
  },
  {
   "cell_type": "code",
   "execution_count": 20,
   "metadata": {
    "application/vnd.databricks.v1+cell": {
     "inputWidgets": {},
     "nuid": "a5b0acd4-96ae-4512-8134-fc06b59c90bf",
     "showTitle": false,
     "title": ""
    }
   },
   "outputs": [
    {
     "name": "stdout",
     "output_type": "stream",
     "text": [
      "+----+----------+----------+--------------------+--------+-------------------+---------+\n",
      "|AdID|LocationID|CategoryID|              Params|   Price|              Title|IsContext|\n",
      "+----+----------+----------+--------------------+--------+-------------------+---------+\n",
      "|   1|       343|        43|{1283:'С пробегом...|160000.0|Toyota Estima, 1993|        0|\n",
      "+----+----------+----------+--------------------+--------+-------------------+---------+\n",
      "only showing top 1 row\n",
      "\n",
      "+------+-----------+-------------+------------+-----------------+\n",
      "|UserID|UserAgentID|UserAgentOSID|UserDeviceID|UserAgentFamilyID|\n",
      "+------+-----------+-------------+------------+-----------------+\n",
      "|     1|      44073|           30|        2019|                9|\n",
      "+------+-----------+-------------+------------+-----------------+\n",
      "only showing top 1 row\n",
      "\n",
      "+----------+-----+--------+------+\n",
      "|LocationID|Level|RegionID|CityID|\n",
      "+----------+-----+--------+------+\n",
      "|         7|    3|      83|  2386|\n",
      "+----------+-----+--------+------+\n",
      "only showing top 1 row\n",
      "\n",
      "+----------+-----+----------------+-------------+\n",
      "|CategoryID|Level|ParentCategoryID|SubcategoryID|\n",
      "+----------+-----+----------------+-------------+\n",
      "|         0|    1|              10|           45|\n",
      "+----------+-----+----------------+-------------+\n",
      "only showing top 1 row\n",
      "\n"
     ]
    }
   ],
   "source": [
    "ad_info.show(1)\n",
    "user_info.show(1)\n",
    "location.show(1)\n",
    "category.show(1)"
   ]
  },
  {
   "cell_type": "markdown",
   "metadata": {},
   "source": [
    "## Grouping by Object Type"
   ]
  },
  {
   "cell_type": "code",
   "execution_count": 37,
   "metadata": {
    "application/vnd.databricks.v1+cell": {
     "inputWidgets": {},
     "nuid": "7f02a70e-9a4c-4b40-802e-bb980e956a4a",
     "showTitle": false,
     "title": ""
    }
   },
   "outputs": [],
   "source": [
    "search_data = search_click.groupBy(\"ObjectType\").sum(\"SearchID\")"
   ]
  },
  {
   "cell_type": "markdown",
   "metadata": {},
   "source": [
    "#### Converting into Pandas for Visualisation"
   ]
  },
  {
   "cell_type": "code",
   "execution_count": 38,
   "metadata": {
    "application/vnd.databricks.v1+cell": {
     "inputWidgets": {},
     "nuid": "e9e4f83d-6b19-4255-847d-3d6b334c39ad",
     "showTitle": false,
     "title": ""
    }
   },
   "outputs": [
    {
     "name": "stderr",
     "output_type": "stream",
     "text": [
      "/home/hadoop/miniconda/lib/python3.7/site-packages/pyarrow/util.py:43: FutureWarning: pyarrow.open_stream is deprecated as of 0.17.0, please use pyarrow.ipc.open_stream instead.\n",
      "  warnings.warn(msg, FutureWarning)\n"
     ]
    }
   ],
   "source": [
    "search_a = search_data.toPandas()"
   ]
  },
  {
   "cell_type": "markdown",
   "metadata": {},
   "source": [
    "## Performing Analysis"
   ]
  },
  {
   "cell_type": "code",
   "execution_count": 41,
   "metadata": {
    "application/vnd.databricks.v1+cell": {
     "inputWidgets": {},
     "nuid": "9f44b722-438b-4f60-a8e5-48cf208135d8",
     "showTitle": false,
     "title": ""
    }
   },
   "outputs": [
    {
     "data": {
      "text/html": [
       "<div>\n",
       "<style scoped>\n",
       "    .dataframe tbody tr th:only-of-type {\n",
       "        vertical-align: middle;\n",
       "    }\n",
       "\n",
       "    .dataframe tbody tr th {\n",
       "        vertical-align: top;\n",
       "    }\n",
       "\n",
       "    .dataframe thead th {\n",
       "        text-align: right;\n",
       "    }\n",
       "</style>\n",
       "<table border=\"1\" class=\"dataframe\">\n",
       "  <thead>\n",
       "    <tr style=\"text-align: right;\">\n",
       "      <th></th>\n",
       "      <th>ObjectType</th>\n",
       "      <th>Number of Objects</th>\n",
       "    </tr>\n",
       "  </thead>\n",
       "  <tbody>\n",
       "    <tr>\n",
       "      <th>0</th>\n",
       "      <td>Regular free ads</td>\n",
       "      <td>9268977369020128</td>\n",
       "    </tr>\n",
       "    <tr>\n",
       "      <th>1</th>\n",
       "      <td>Contextual ads</td>\n",
       "      <td>10836230822629195</td>\n",
       "    </tr>\n",
       "    <tr>\n",
       "      <th>2</th>\n",
       "      <td>Highlighted regular</td>\n",
       "      <td>2252572006636709</td>\n",
       "    </tr>\n",
       "  </tbody>\n",
       "</table>\n",
       "</div>"
      ],
      "text/plain": [
       "            ObjectType  Number of Objects\n",
       "0     Regular free ads   9268977369020128\n",
       "1       Contextual ads  10836230822629195\n",
       "2  Highlighted regular   2252572006636709"
      ]
     },
     "execution_count": 41,
     "metadata": {},
     "output_type": "execute_result"
    }
   ],
   "source": [
    "search_a.rename(columns = {'sum(SearchID)':'Number of Objects'}, inplace = True)\n",
    "search_a = search_a.replace({'ObjectType' : { 1 : 'Regular free ads', 2 : 'Highlighted regular', 3 : 'Contextual ads'}})\n",
    "search_a"
   ]
  },
  {
   "cell_type": "markdown",
   "metadata": {},
   "source": [
    "## Piechart Visualisation"
   ]
  },
  {
   "cell_type": "code",
   "execution_count": 42,
   "metadata": {
    "application/vnd.databricks.v1+cell": {
     "inputWidgets": {},
     "nuid": "ea1f8174-392a-4583-bee8-5f8b0fffde94",
     "showTitle": false,
     "title": ""
    }
   },
   "outputs": [
    {
     "data": {
      "image/png": "[encoded data removed]",
      "text/plain": [
       "<Figure size 640x480 with 1 Axes>"
      ]
     },
     "metadata": {},
     "output_type": "display_data"
    }
   ],
   "source": [
    "colors = [\"#E13F29\", \"#D69A80\", \"#D63B59\"]\n",
    "\n",
    "# Create a pie chart\n",
    "plt.pie(search_a['Number of Objects'],labels=search_a['ObjectType'],shadow=False,colors=colors,explode=(0, 0, 0.1),startangle=90,autopct='%1.1f%%')\n",
    "\n",
    "# View the plot drop above\n",
    "plt.axis('equal')\n",
    "\n",
    "# View the plot\n",
    "plt.tight_layout()\n",
    "plt.show()"
   ]
  },
  {
   "cell_type": "markdown",
   "metadata": {},
   "source": [
    "## Filtering by ObjectType"
   ]
  },
  {
   "cell_type": "code",
   "execution_count": 43,
   "metadata": {
    "application/vnd.databricks.v1+cell": {
     "inputWidgets": {},
     "nuid": "371fab4b-4ae6-4218-9f7b-2a8532a8f6de",
     "showTitle": false,
     "title": ""
    }
   },
   "outputs": [],
   "source": [
    "search_a = search_click.filter(search_click[\"ObjectType\"]<3)\n"
   ]
  },
  {
   "cell_type": "markdown",
   "metadata": {
    "application/vnd.databricks.v1+cell": {
     "inputWidgets": {},
     "nuid": "899782b4-5f3b-4ac6-8619-04b8a1aeaea3",
     "showTitle": false,
     "title": ""
    }
   },
   "source": [
    "### Filtered Data"
   ]
  },
  {
   "cell_type": "code",
   "execution_count": 51,
   "metadata": {
    "application/vnd.databricks.v1+cell": {
     "inputWidgets": {},
     "nuid": "f68d05f2-4920-4aa0-92d8-d4361d2495a8",
     "showTitle": false,
     "title": ""
    }
   },
   "outputs": [
    {
     "name": "stdout",
     "output_type": "stream",
     "text": [
      "+--------+--------+--------+----------+-------+-------+\n",
      "|SearchID|    AdID|Position|ObjectType|HistCTR|IsClick|\n",
      "+--------+--------+--------+----------+-------+-------+\n",
      "|       3|36256251|       2|         2|   null|   null|\n",
      "|       4| 2073399|       6|         1|   null|   null|\n",
      "|       4| 6046052|       7|         1|   null|   null|\n",
      "|       4|17544913|       8|         1|   null|   null|\n",
      "|       4|24129570|       2|         2|   null|   null|\n",
      "|       5|  530202|       6|         1|   null|   null|\n",
      "|       5|30074367|       2|         2|   null|   null|\n",
      "|       5|33506654|       8|         1|   null|   null|\n",
      "|       9| 1723280|       6|         1|   null|   null|\n",
      "|       9|12183046|       2|         1|   null|   null|\n",
      "|       9|14527486|       8|         1|   null|   null|\n",
      "|      11|24656451|       6|         1|   null|   null|\n",
      "|      11|34771144|       8|         1|   null|   null|\n",
      "|      12| 1123553|       7|         1|   null|   null|\n",
      "|      12|13378643|       2|         2|   null|   null|\n",
      "|      12|17613346|       6|         1|   null|   null|\n",
      "|      12|36603083|       8|         1|   null|   null|\n",
      "|      14|21847208|       8|         1|   null|   null|\n",
      "|      14|25213333|       2|         1|   null|   null|\n",
      "|      14|30702772|       6|         1|   null|   null|\n",
      "+--------+--------+--------+----------+-------+-------+\n",
      "only showing top 20 rows\n",
      "\n"
     ]
    }
   ],
   "source": [
    "search_a.show()"
   ]
  },
  {
   "cell_type": "markdown",
   "metadata": {},
   "source": [
    "### Joining table over AdID"
   ]
  },
  {
   "cell_type": "code",
   "execution_count": 44,
   "metadata": {
    "application/vnd.databricks.v1+cell": {
     "inputWidgets": {},
     "nuid": "52c04a35-87f8-45c6-ae7b-0f6b80868c2f",
     "showTitle": false,
     "title": ""
    }
   },
   "outputs": [],
   "source": [
    "ad_join = ad_info.join(search_a, on=['AdID'], how='inner')"
   ]
  },
  {
   "cell_type": "markdown",
   "metadata": {},
   "source": [
    "### Displaying Joined Table"
   ]
  },
  {
   "cell_type": "code",
   "execution_count": 53,
   "metadata": {
    "application/vnd.databricks.v1+cell": {
     "inputWidgets": {},
     "nuid": "16c3ac5c-0d63-4cef-ab29-1c79e844f4c7",
     "showTitle": false,
     "title": ""
    }
   },
   "outputs": [
    {
     "name": "stdout",
     "output_type": "stream",
     "text": [
      "+----+----------+----------+--------------------+------+--------------------+---------+---------+--------+----------+-------+-------+\n",
      "|AdID|LocationID|CategoryID|              Params| Price|               Title|IsContext| SearchID|Position|ObjectType|HistCTR|IsClick|\n",
      "+----+----------+----------+--------------------+------+--------------------+---------+---------+--------+----------+-------+-------+\n",
      "| 463|      2300|        54|{576:'5-8', 550:'...|5500.0|1-к квартира, 32 ...|        0| 67097042|       7|         1|   null|   null|\n",
      "| 463|      2300|        54|{576:'5-8', 550:'...|5500.0|1-к квартира, 32 ...|        0| 73827585|       7|         1|   null|   null|\n",
      "| 471|      2277|        34|{817:'Трансмиссия...|   1.0|Мкпп VW Golf V VI...|        0| 80218753|       8|         1|   null|   null|\n",
      "|1088|      3960|        53|{181:'Для рестора...| 850.0|Новые чехлы на ст...|        0| 70880773|       8|         1|   null|   null|\n",
      "|1238|      3928|        60|{112:'98-104 см (...| 800.0|Костюм брючный и ...|        0| 41494126|       8|         1|   null|   null|\n",
      "|1238|      3928|        60|{112:'98-104 см (...| 800.0|Костюм брючный и ...|        0| 76998659|       7|         1|   null|   null|\n",
      "|1591|      3960|         5|{165:'Зимние виды...|4000.0|Крепления для сно...|        0| 84707570|       8|         1|   null|   null|\n",
      "|1591|      3960|         5|{165:'Зимние виды...|4000.0|Крепления для сно...|        0| 79706694|       8|         1|   null|   null|\n",
      "|1959|      4341|        34|{817:'Кузов', 5:'...|   0.0|Запчасти Toyota C...|        0|  8081954|       6|         1|   null|   null|\n",
      "|1959|      4341|        34|{817:'Кузов', 5:'...|   0.0|Запчасти Toyota C...|        0| 49705261|       8|         1|   null|   null|\n",
      "|1959|      4341|        34|{817:'Кузов', 5:'...|   0.0|Запчасти Toyota C...|        0| 63834242|       8|         1|   null|   null|\n",
      "|1959|      4341|        34|{817:'Кузов', 5:'...|   0.0|Запчасти Toyota C...|        0| 91255168|       8|         1|   null|   null|\n",
      "|1959|      4341|        34|{817:'Кузов', 5:'...|   0.0|Запчасти Toyota C...|        0| 98749350|       8|         1|   null|   null|\n",
      "|1959|      4341|        34|{817:'Кузов', 5:'...|   0.0|Запчасти Toyota C...|        0| 83894092|       2|         1|   null|   null|\n",
      "|1959|      4341|        34|{817:'Кузов', 5:'...|   0.0|Запчасти Toyota C...|        0| 79732056|       2|         1|   null|   null|\n",
      "|2122|       346|        41|{480:'Чехлы и плё...| 350.0|Розовый Чехол на ...|        0| 22633296|       6|         1|   null|   null|\n",
      "|2122|       346|        41|{480:'Чехлы и плё...| 350.0|Розовый Чехол на ...|        0| 22657437|       6|         1|   null|   null|\n",
      "|2122|       346|        41|{480:'Чехлы и плё...| 350.0|Розовый Чехол на ...|        0| 26555469|       2|         1|   null|   null|\n",
      "|2122|       346|        41|{480:'Чехлы и плё...| 350.0|Розовый Чехол на ...|        0| 76900262|       6|         1|   null|   null|\n",
      "|2122|       346|        41|{480:'Чехлы и плё...| 350.0|Розовый Чехол на ...|        0|104437707|       6|         1|   null|   null|\n",
      "+----+----------+----------+--------------------+------+--------------------+---------+---------+--------+----------+-------+-------+\n",
      "only showing top 20 rows\n",
      "\n"
     ]
    }
   ],
   "source": [
    "ad_join.show()"
   ]
  },
  {
   "cell_type": "code",
   "execution_count": 45,
   "metadata": {
    "application/vnd.databricks.v1+cell": {
     "inputWidgets": {},
     "nuid": "d34a66a2-ac35-4f45-9d6b-a46928ad0e1a",
     "showTitle": false,
     "title": ""
    }
   },
   "outputs": [],
   "source": [
    "ad_location = ad_join.join(location, on=['LocationID'], how='inner')"
   ]
  },
  {
   "cell_type": "code",
   "execution_count": 32,
   "metadata": {
    "application/vnd.databricks.v1+cell": {
     "inputWidgets": {},
     "nuid": "1dd2c5a6-5d2e-41e2-b9ed-8cd01859af2a",
     "showTitle": false,
     "title": ""
    }
   },
   "outputs": [
    {
     "data": {
      "text/plain": [
       "202199122"
      ]
     },
     "execution_count": 32,
     "metadata": {},
     "output_type": "execute_result"
    }
   ],
   "source": [
    "ad_location.count()"
   ]
  },
  {
   "cell_type": "markdown",
   "metadata": {},
   "source": [
    "### Using groupby"
   ]
  },
  {
   "cell_type": "code",
   "execution_count": 46,
   "metadata": {
    "application/vnd.databricks.v1+cell": {
     "inputWidgets": {},
     "nuid": "98d0a778-7ecf-457d-8a93-a1069433de4f",
     "showTitle": false,
     "title": ""
    }
   },
   "outputs": [],
   "source": [
    "ad_loc_region = ad_location.groupBy(\"RegionID\").avg(\"Price\")\n",
    "ad_loc_level = ad_location.groupBy(\"Level\").avg(\"Price\")"
   ]
  },
  {
   "cell_type": "markdown",
   "metadata": {},
   "source": [
    "#### Converting into Pandas for Visualisation"
   ]
  },
  {
   "cell_type": "code",
   "execution_count": 47,
   "metadata": {
    "application/vnd.databricks.v1+cell": {
     "inputWidgets": {},
     "nuid": "c109d70e-45b1-4883-9a51-340904e7ccda",
     "showTitle": false,
     "title": ""
    }
   },
   "outputs": [
    {
     "name": "stderr",
     "output_type": "stream",
     "text": [
      "/home/hadoop/miniconda/lib/python3.7/site-packages/pyarrow/util.py:43: FutureWarning: pyarrow.open_stream is deprecated as of 0.17.0, please use pyarrow.ipc.open_stream instead.\n",
      "  warnings.warn(msg, FutureWarning)\n"
     ]
    }
   ],
   "source": [
    "ad_r = ad_loc_region.toPandas()\n",
    "ad_l = ad_loc_level.toPandas()"
   ]
  },
  {
   "cell_type": "markdown",
   "metadata": {},
   "source": [
    "## AVG-Price VS Regions"
   ]
  },
  {
   "cell_type": "code",
   "execution_count": 55,
   "metadata": {
    "application/vnd.databricks.v1+cell": {
     "inputWidgets": {},
     "nuid": "638f5cf4-8e09-4f59-9524-c5568d38f093",
     "showTitle": false,
     "title": ""
    }
   },
   "outputs": [
    {
     "data": {
      "image/png": "[encoded data removed]",
      "text/plain": [
       "<Figure size 4000x500 with 1 Axes>"
      ]
     },
     "metadata": {},
     "output_type": "display_data"
    }
   ],
   "source": [
    "from matplotlib import pyplot\n",
    "\n",
    "fig_dims = (40,5)\n",
    "fig, ax = plt.subplots(figsize=fig_dims)\n",
    "se.barplot(x = \"RegionID\", y = \"avg(Price)\", ax=ax, data=ad_r)\n",
    "plt.ticklabel_format(style='plain', axis='y')\n",
    "plt.show()\n"
   ]
  },
  {
   "cell_type": "markdown",
   "metadata": {
    "application/vnd.databricks.v1+cell": {
     "inputWidgets": {},
     "nuid": "58276ec3-b760-40c4-91ca-839d60db4d2b",
     "showTitle": false,
     "title": ""
    }
   },
   "source": [
    "### AVG-Price VS Levels ( Region , City)"
   ]
  },
  {
   "cell_type": "code",
   "execution_count": 56,
   "metadata": {
    "application/vnd.databricks.v1+cell": {
     "inputWidgets": {},
     "nuid": "98d16aaf-353c-412a-ad71-4a956a8fff54",
     "showTitle": false,
     "title": ""
    }
   },
   "outputs": [
    {
     "data": {
      "image/png": "[encoded data removed]",
      "text/plain": [
       "<Figure size 640x480 with 1 Axes>"
      ]
     },
     "metadata": {},
     "output_type": "display_data"
    }
   ],
   "source": [
    "plots = se.barplot(x = \"Level\", y = \"avg(Price)\",\n",
    "             data = ad_l)\n",
    "\n",
    "plt.ticklabel_format(style='plain', axis='y')\n",
    "plt.show()"
   ]
  },
  {
   "cell_type": "markdown",
   "metadata": {},
   "source": [
    "### Number of Searches per day"
   ]
  },
  {
   "cell_type": "markdown",
   "metadata": {},
   "source": [
    "##### Changing Column type to Datetime"
   ]
  },
  {
   "cell_type": "code",
   "execution_count": 20,
   "metadata": {},
   "outputs": [],
   "source": [
    "from pyspark.sql.functions import *\n",
    "\n",
    "from pyspark.sql.functions import col\n",
    "\n",
    "from pyspark.sql.types import StringType,DateType,IntegerType,FloatType,TimestampType"
   ]
  },
  {
   "cell_type": "code",
   "execution_count": 21,
   "metadata": {},
   "outputs": [],
   "source": [
    "search_date = search_info.withColumn(\"SearchDate\",search_info.SearchDate.cast(TimestampType()))\n"
   ]
  },
  {
   "cell_type": "code",
   "execution_count": 22,
   "metadata": {},
   "outputs": [
    {
     "name": "stdout",
     "output_type": "stream",
     "text": [
      "root\n",
      " |-- SearchID: integer (nullable = true)\n",
      " |-- SearchDate: timestamp (nullable = true)\n",
      " |-- IPID: integer (nullable = true)\n",
      " |-- UserID: integer (nullable = true)\n",
      " |-- IsUserLoggedOn: integer (nullable = true)\n",
      " |-- SearchQuery: string (nullable = true)\n",
      " |-- LocationID: integer (nullable = true)\n",
      " |-- CategoryID: integer (nullable = true)\n",
      " |-- SearchParams: string (nullable = true)\n",
      "\n"
     ]
    }
   ],
   "source": [
    "search_date.printSchema()"
   ]
  },
  {
   "cell_type": "markdown",
   "metadata": {},
   "source": [
    "### Extracting the Day of the Week."
   ]
  },
  {
   "cell_type": "code",
   "execution_count": 23,
   "metadata": {},
   "outputs": [],
   "source": [
    "search_date2 = search_date.withColumn(\"dayofweek\", dayofweek(\"SearchDate\"))\n",
    "                            "
   ]
  },
  {
   "cell_type": "code",
   "execution_count": 24,
   "metadata": {},
   "outputs": [
    {
     "name": "stdout",
     "output_type": "stream",
     "text": [
      "root\n",
      " |-- SearchID: integer (nullable = true)\n",
      " |-- SearchDate: timestamp (nullable = true)\n",
      " |-- IPID: integer (nullable = true)\n",
      " |-- UserID: integer (nullable = true)\n",
      " |-- IsUserLoggedOn: integer (nullable = true)\n",
      " |-- SearchQuery: string (nullable = true)\n",
      " |-- LocationID: integer (nullable = true)\n",
      " |-- CategoryID: integer (nullable = true)\n",
      " |-- SearchParams: string (nullable = true)\n",
      " |-- dayofweek: integer (nullable = true)\n",
      "\n"
     ]
    }
   ],
   "source": [
    "search_date2.printSchema()"
   ]
  },
  {
   "cell_type": "code",
   "execution_count": 32,
   "metadata": {},
   "outputs": [],
   "source": [
    "search_data1 = search_date2.groupBy('dayofweek').count()"
   ]
  },
  {
   "cell_type": "markdown",
   "metadata": {},
   "source": [
    "#### Converting into Pandas for Visualisation"
   ]
  },
  {
   "cell_type": "code",
   "execution_count": 35,
   "metadata": {},
   "outputs": [
    {
     "name": "stderr",
     "output_type": "stream",
     "text": [
      "/home/hadoop/miniconda/lib/python3.7/site-packages/pyarrow/util.py:43: FutureWarning: pyarrow.open_stream is deprecated as of 0.17.0, please use pyarrow.ipc.open_stream instead.\n",
      "  warnings.warn(msg, FutureWarning)\n"
     ]
    }
   ],
   "source": [
    "search_pandas = search_data.toPandas()"
   ]
  },
  {
   "cell_type": "code",
   "execution_count": 39,
   "metadata": {},
   "outputs": [
    {
     "data": {
      "text/html": [
       "<div>\n",
       "<style scoped>\n",
       "    .dataframe tbody tr th:only-of-type {\n",
       "        vertical-align: middle;\n",
       "    }\n",
       "\n",
       "    .dataframe tbody tr th {\n",
       "        vertical-align: top;\n",
       "    }\n",
       "\n",
       "    .dataframe thead th {\n",
       "        text-align: right;\n",
       "    }\n",
       "</style>\n",
       "<table border=\"1\" class=\"dataframe\">\n",
       "  <thead>\n",
       "    <tr style=\"text-align: right;\">\n",
       "      <th></th>\n",
       "      <th>dayofweek</th>\n",
       "      <th>count</th>\n",
       "    </tr>\n",
       "  </thead>\n",
       "  <tbody>\n",
       "    <tr>\n",
       "      <th>0</th>\n",
       "      <td>1</td>\n",
       "      <td>16142357</td>\n",
       "    </tr>\n",
       "    <tr>\n",
       "      <th>1</th>\n",
       "      <td>6</td>\n",
       "      <td>12716518</td>\n",
       "    </tr>\n",
       "    <tr>\n",
       "      <th>2</th>\n",
       "      <td>3</td>\n",
       "      <td>19146425</td>\n",
       "    </tr>\n",
       "    <tr>\n",
       "      <th>3</th>\n",
       "      <td>5</td>\n",
       "      <td>14528876</td>\n",
       "    </tr>\n",
       "    <tr>\n",
       "      <th>4</th>\n",
       "      <td>4</td>\n",
       "      <td>16969022</td>\n",
       "    </tr>\n",
       "    <tr>\n",
       "      <th>5</th>\n",
       "      <td>7</td>\n",
       "      <td>14156386</td>\n",
       "    </tr>\n",
       "    <tr>\n",
       "      <th>6</th>\n",
       "      <td>2</td>\n",
       "      <td>18499878</td>\n",
       "    </tr>\n",
       "  </tbody>\n",
       "</table>\n",
       "</div>"
      ],
      "text/plain": [
       "   dayofweek     count\n",
       "0          1  16142357\n",
       "1          6  12716518\n",
       "2          3  19146425\n",
       "3          5  14528876\n",
       "4          4  16969022\n",
       "5          7  14156386\n",
       "6          2  18499878"
      ]
     },
     "execution_count": 39,
     "metadata": {},
     "output_type": "execute_result"
    }
   ],
   "source": [
    "search_pandas"
   ]
  },
  {
   "cell_type": "code",
   "execution_count": 40,
   "metadata": {},
   "outputs": [
    {
     "data": {
      "image/png": "[encoded data removed]",
      "text/plain": [
       "<Figure size 640x480 with 1 Axes>"
      ]
     },
     "metadata": {},
     "output_type": "display_data"
    }
   ],
   "source": [
    "plots = se.barplot(x = \"dayofweek\", y = \"count\",\n",
    "             data = search_pandas)\n",
    "\n",
    "plt.tight_layout()\n",
    "plt.ticklabel_format(style='plain', axis='y')\n",
    "plt.show()"
   ]
  },
  {
   "cell_type": "markdown",
   "metadata": {
    "application/vnd.databricks.v1+cell": {
     "inputWidgets": {},
     "nuid": "d6388e14-8491-4c9e-a8c0-87a7005728be",
     "showTitle": false,
     "title": ""
    }
   },
   "source": [
    "## IsClick Prediction for Contextual ads\n",
    "### Dropping non contextual ads"
   ]
  },
  {
   "cell_type": "code",
   "execution_count": 67,
   "metadata": {
    "application/vnd.databricks.v1+cell": {
     "inputWidgets": {},
     "nuid": "49d1b1de-a11c-47e6-9f13-51d72f4406cb",
     "showTitle": false,
     "title": ""
    }
   },
   "outputs": [],
   "source": [
    "df_context = search_click.dropna()"
   ]
  },
  {
   "cell_type": "markdown",
   "metadata": {},
   "source": [
    "### Counting contextual ads"
   ]
  },
  {
   "cell_type": "code",
   "execution_count": 36,
   "metadata": {
    "application/vnd.databricks.v1+cell": {
     "inputWidgets": {},
     "nuid": "7847fb4f-380f-4f54-ac14-09cf3dbd11ea",
     "showTitle": false,
     "title": ""
    }
   },
   "outputs": [
    {
     "data": {
      "text/plain": [
       "190157735"
      ]
     },
     "execution_count": 36,
     "metadata": {},
     "output_type": "execute_result"
    }
   ],
   "source": [
    "df_context.count()"
   ]
  },
  {
   "cell_type": "markdown",
   "metadata": {},
   "source": [
    "### Describing data to perform operations"
   ]
  },
  {
   "cell_type": "code",
   "execution_count": 37,
   "metadata": {
    "application/vnd.databricks.v1+cell": {
     "inputWidgets": {},
     "nuid": "507a8eb1-2310-4641-aae0-d08796a87d0c",
     "showTitle": false,
     "title": ""
    }
   },
   "outputs": [
    {
     "name": "stdout",
     "output_type": "stream",
     "text": [
      "+-------+--------------------+--------------------+------------------+----------+--------------------+--------------------+\n",
      "|summary|            SearchID|                AdID|          Position|ObjectType|             HistCTR|             IsClick|\n",
      "+-------+--------------------+--------------------+------------------+----------+--------------------+--------------------+\n",
      "|  count|           190157735|           190157735|         190157735| 190157735|           190157735|           190157735|\n",
      "|   mean|  5.69854853531422E7|1.8845459732623287E7|3.5966107873550346|       3.0|0.010295077817999277|0.006028095570238045|\n",
      "| stddev|3.2898612568632223E7|1.0426836110354574E7| 2.972755824078895|       0.0| 0.01556112081069576| 0.07740644459955175|\n",
      "|    min|                   2|                 473|                 1|         3|              1.0E-5|                   0|\n",
      "|    max|           113964820|            36891660|                 7|         3|                 1.0|                   1|\n",
      "+-------+--------------------+--------------------+------------------+----------+--------------------+--------------------+\n",
      "\n"
     ]
    }
   ],
   "source": [
    "df_context.describe().show()"
   ]
  },
  {
   "cell_type": "markdown",
   "metadata": {},
   "source": [
    "### Joining Tables"
   ]
  },
  {
   "cell_type": "markdown",
   "metadata": {},
   "source": [
    "#### Below Steps are to join and select features as required for further classifications"
   ]
  },
  {
   "cell_type": "code",
   "execution_count": 68,
   "metadata": {
    "application/vnd.databricks.v1+cell": {
     "inputWidgets": {},
     "nuid": "42f331cd-3a42-4ea1-b0af-55a5164e56af",
     "showTitle": false,
     "title": ""
    }
   },
   "outputs": [],
   "source": [
    "df_join = df_context.join(ad_info, on=['AdID'], how='inner')"
   ]
  },
  {
   "cell_type": "code",
   "execution_count": 39,
   "metadata": {
    "application/vnd.databricks.v1+cell": {
     "inputWidgets": {},
     "nuid": "d4be70c3-23ff-4b1d-bc21-5b4714c26e78",
     "showTitle": false,
     "title": ""
    }
   },
   "outputs": [
    {
     "name": "stdout",
     "output_type": "stream",
     "text": [
      "+------+--------+--------+----------+-------+-------+----------+----------+--------------------+-----+-----+---------+\n",
      "|  AdID|SearchID|Position|ObjectType|HistCTR|IsClick|LocationID|CategoryID|              Params|Price|Title|IsContext|\n",
      "+------+--------+--------+----------+-------+-------+----------+----------+--------------------+-----+-----+---------+\n",
      "|404966|23088251|       1|         3| 1.0E-5|      0|      null|        60|{178:'Для девочек...|458.0|2топа|        1|\n",
      "+------+--------+--------+----------+-------+-------+----------+----------+--------------------+-----+-----+---------+\n",
      "only showing top 1 row\n",
      "\n"
     ]
    }
   ],
   "source": [
    "df_join.show(1)"
   ]
  },
  {
   "cell_type": "code",
   "execution_count": 69,
   "metadata": {
    "application/vnd.databricks.v1+cell": {
     "inputWidgets": {},
     "nuid": "880a4bc1-35ad-4b00-8519-266d4cf02065",
     "showTitle": false,
     "title": ""
    }
   },
   "outputs": [],
   "source": [
    "df_join_final = df_join.join(category,on=['CategoryID'],how = 'inner')"
   ]
  },
  {
   "cell_type": "code",
   "execution_count": 70,
   "metadata": {
    "application/vnd.databricks.v1+cell": {
     "inputWidgets": {},
     "nuid": "d4a2e467-a671-4149-907b-df2db173d0c6",
     "showTitle": false,
     "title": ""
    }
   },
   "outputs": [],
   "source": [
    "df_join_final1 = df_join_final.join(search_info,on=['SearchID'],how = 'inner')"
   ]
  },
  {
   "cell_type": "code",
   "execution_count": 148,
   "metadata": {
    "application/vnd.databricks.v1+cell": {
     "inputWidgets": {},
     "nuid": "98f92a0d-fa18-4472-a11c-bd259a19d3a8",
     "showTitle": false,
     "title": ""
    }
   },
   "outputs": [
    {
     "name": "stdout",
     "output_type": "stream",
     "text": [
      "+--------+----------+--------+--------+----------+-------+-------+----------+--------------------+------+------+---------+-----+----------------+-------------+-------------------+-------+-------+--------------+-----------+----------+----------+--------------------+\n",
      "|SearchID|CategoryID|    AdID|Position|ObjectType|HistCTR|IsClick|LocationID|              Params| Price| Title|IsContext|Level|ParentCategoryID|SubcategoryID|         SearchDate|   IPID| UserID|IsUserLoggedOn|SearchQuery|LocationID|CategoryID|        SearchParams|\n",
      "+--------+----------+--------+--------+----------+-------+-------+----------+--------------------+------+------+---------+-----+----------------+-------------+-------------------+-------+-------+--------------+-----------+----------+----------+--------------------+\n",
      "|     148|        60|27819278|       7|         3| 1.0E-5|      0|      null|{110:'Верхняя оде...|2639.0|Куртка|        1|    3|               3|           43|2015-05-12 17:06:14|2219909|3852793|             0|       null|      3953|        60|{119:'86-92 см (1...|\n",
      "+--------+----------+--------+--------+----------+-------+-------+----------+--------------------+------+------+---------+-----+----------------+-------------+-------------------+-------+-------+--------------+-----------+----------+----------+--------------------+\n",
      "only showing top 1 row\n",
      "\n"
     ]
    }
   ],
   "source": [
    "df_join_final1.show(1)"
   ]
  },
  {
   "cell_type": "code",
   "execution_count": 71,
   "metadata": {
    "application/vnd.databricks.v1+cell": {
     "inputWidgets": {},
     "nuid": "5e7cba55-9dfa-4740-98c1-d5e396a316f8",
     "showTitle": false,
     "title": ""
    }
   },
   "outputs": [],
   "source": [
    "df_isClick = df_join_final1.join(user_info,on = ['UserID'],how = 'inner')"
   ]
  },
  {
   "cell_type": "code",
   "execution_count": 56,
   "metadata": {
    "application/vnd.databricks.v1+cell": {
     "inputWidgets": {},
     "nuid": "21dc600e-c958-413f-af91-e6e800571eea",
     "showTitle": false,
     "title": ""
    }
   },
   "outputs": [
    {
     "name": "stdout",
     "output_type": "stream",
     "text": [
      "root\n",
      " |-- UserID: integer (nullable = true)\n",
      " |-- SearchID: integer (nullable = true)\n",
      " |-- CategoryID: integer (nullable = true)\n",
      " |-- AdID: integer (nullable = true)\n",
      " |-- Position: integer (nullable = true)\n",
      " |-- ObjectType: integer (nullable = true)\n",
      " |-- HistCTR: double (nullable = true)\n",
      " |-- IsClick: integer (nullable = true)\n",
      " |-- LocationID: integer (nullable = true)\n",
      " |-- Params: string (nullable = true)\n",
      " |-- Price: double (nullable = true)\n",
      " |-- Title: string (nullable = true)\n",
      " |-- IsContext: integer (nullable = true)\n",
      " |-- Level: integer (nullable = true)\n",
      " |-- ParentCategoryID: integer (nullable = true)\n",
      " |-- SubcategoryID: integer (nullable = true)\n",
      " |-- SearchDate: timestamp (nullable = true)\n",
      " |-- IPID: integer (nullable = true)\n",
      " |-- IsUserLoggedOn: integer (nullable = true)\n",
      " |-- SearchQuery: string (nullable = true)\n",
      " |-- LocationID: integer (nullable = true)\n",
      " |-- CategoryID: integer (nullable = true)\n",
      " |-- SearchParams: string (nullable = true)\n",
      " |-- UserAgentID: integer (nullable = true)\n",
      " |-- UserAgentOSID: integer (nullable = true)\n",
      " |-- UserDeviceID: integer (nullable = true)\n",
      " |-- UserAgentFamilyID: integer (nullable = true)\n",
      "\n"
     ]
    }
   ],
   "source": [
    "df_isClick.printSchema()"
   ]
  },
  {
   "cell_type": "code",
   "execution_count": 57,
   "metadata": {
    "application/vnd.databricks.v1+cell": {
     "inputWidgets": {},
     "nuid": "c11151ce-18fe-4d58-b1a5-e829caec4aca",
     "showTitle": false,
     "title": ""
    }
   },
   "outputs": [
    {
     "data": {
      "text/plain": [
       "['UserID',\n",
       " 'SearchID',\n",
       " 'CategoryID',\n",
       " 'AdID',\n",
       " 'Position',\n",
       " 'ObjectType',\n",
       " 'HistCTR',\n",
       " 'IsClick',\n",
       " 'LocationID',\n",
       " 'Params',\n",
       " 'Price',\n",
       " 'Title',\n",
       " 'IsContext',\n",
       " 'Level',\n",
       " 'ParentCategoryID',\n",
       " 'SubcategoryID',\n",
       " 'SearchDate',\n",
       " 'IPID',\n",
       " 'IsUserLoggedOn',\n",
       " 'SearchQuery',\n",
       " 'LocationID',\n",
       " 'CategoryID',\n",
       " 'SearchParams',\n",
       " 'UserAgentID',\n",
       " 'UserAgentOSID',\n",
       " 'UserDeviceID',\n",
       " 'UserAgentFamilyID']"
      ]
     },
     "execution_count": 57,
     "metadata": {},
     "output_type": "execute_result"
    }
   ],
   "source": [
    "df_isClick.columns"
   ]
  },
  {
   "cell_type": "code",
   "execution_count": 73,
   "metadata": {
    "application/vnd.databricks.v1+cell": {
     "inputWidgets": {},
     "nuid": "fceb0ae2-f4db-4b9e-92c7-fb480100ab77",
     "showTitle": false,
     "title": ""
    }
   },
   "outputs": [],
   "source": [
    "df_isClick1 = df_isClick.select(['Position',\n",
    " 'ObjectType',\n",
    " 'Price',\n",
    " 'IsContext',\n",
    " 'Level',\n",
    " 'ParentCategoryID',\n",
    " 'SubcategoryID',\n",
    " 'IsUserLoggedOn',\n",
    " 'UserAgentID',\n",
    " 'UserAgentOSID',\n",
    " 'UserDeviceID',\n",
    " 'UserAgentFamilyID',\n",
    " 'IsClick',])"
   ]
  },
  {
   "cell_type": "code",
   "execution_count": 88,
   "metadata": {
    "application/vnd.databricks.v1+cell": {
     "inputWidgets": {},
     "nuid": "4fe3e028-ff0e-4d9d-8ae2-76480ce37589",
     "showTitle": false,
     "title": ""
    }
   },
   "outputs": [
    {
     "name": "stdout",
     "output_type": "stream",
     "text": [
      "root\n",
      " |-- Position: integer (nullable = true)\n",
      " |-- ObjectType: integer (nullable = true)\n",
      " |-- Price: double (nullable = true)\n",
      " |-- IsContext: integer (nullable = true)\n",
      " |-- Level: integer (nullable = true)\n",
      " |-- ParentCategoryID: integer (nullable = true)\n",
      " |-- SubcategoryID: integer (nullable = true)\n",
      " |-- IsUserLoggedOn: integer (nullable = true)\n",
      " |-- UserAgentID: integer (nullable = true)\n",
      " |-- UserAgentOSID: integer (nullable = true)\n",
      " |-- UserDeviceID: integer (nullable = true)\n",
      " |-- UserAgentFamilyID: integer (nullable = true)\n",
      " |-- IsClick: integer (nullable = true)\n",
      "\n"
     ]
    }
   ],
   "source": [
    "df_isClick1.printSchema()"
   ]
  },
  {
   "cell_type": "code",
   "execution_count": 74,
   "metadata": {
    "application/vnd.databricks.v1+cell": {
     "inputWidgets": {},
     "nuid": "ecc78d8a-a980-42b2-ac2f-bfa67ce2c55d",
     "showTitle": false,
     "title": ""
    }
   },
   "outputs": [],
   "source": [
    "from pyspark.sql.types import IntegerType\n",
    "df_isClick1 = df_isClick1.withColumn(\"Price\",df_isClick1.Price.cast(IntegerType()))"
   ]
  },
  {
   "cell_type": "code",
   "execution_count": 75,
   "metadata": {
    "application/vnd.databricks.v1+cell": {
     "inputWidgets": {},
     "nuid": "821420b0-aa5e-4012-837b-e5a4e32e044d",
     "showTitle": false,
     "title": ""
    }
   },
   "outputs": [
    {
     "name": "stdout",
     "output_type": "stream",
     "text": [
      "root\n",
      " |-- Position: integer (nullable = true)\n",
      " |-- ObjectType: integer (nullable = true)\n",
      " |-- Price: integer (nullable = true)\n",
      " |-- IsContext: integer (nullable = true)\n",
      " |-- Level: integer (nullable = true)\n",
      " |-- ParentCategoryID: integer (nullable = true)\n",
      " |-- SubcategoryID: integer (nullable = true)\n",
      " |-- IsUserLoggedOn: integer (nullable = true)\n",
      " |-- UserAgentID: integer (nullable = true)\n",
      " |-- UserAgentOSID: integer (nullable = true)\n",
      " |-- UserDeviceID: integer (nullable = true)\n",
      " |-- UserAgentFamilyID: integer (nullable = true)\n",
      " |-- IsClick: integer (nullable = true)\n",
      "\n"
     ]
    }
   ],
   "source": [
    "df_isClick1.printSchema()"
   ]
  },
  {
   "cell_type": "markdown",
   "metadata": {},
   "source": [
    "### Importing required Models and Evaluators"
   ]
  },
  {
   "cell_type": "code",
   "execution_count": 76,
   "metadata": {
    "application/vnd.databricks.v1+cell": {
     "inputWidgets": {},
     "nuid": "8eea2152-87ba-4f70-82d7-489e77f5d54f",
     "showTitle": false,
     "title": ""
    }
   },
   "outputs": [],
   "source": [
    "from pyspark.ml.feature import(VectorAssembler,VectorIndexer,\n",
    "                              OneHotEncoder,StringIndexer)\n",
    "\n",
    "from pyspark.ml.classification import LogisticRegression,RandomForestClassifier,NaiveBayes\n",
    "\n",
    "from pyspark.ml import Pipeline\n",
    "\n",
    "from pyspark.sql import functions as f"
   ]
  },
  {
   "cell_type": "code",
   "execution_count": 89,
   "metadata": {
    "application/vnd.databricks.v1+cell": {
     "inputWidgets": {},
     "nuid": "3ed40c27-730a-45d2-a7d3-f78a3eb32e9b",
     "showTitle": false,
     "title": ""
    }
   },
   "outputs": [],
   "source": [
    "from pyspark.ml.evaluation import BinaryClassificationEvaluator,MulticlassClassificationEvaluator"
   ]
  },
  {
   "cell_type": "markdown",
   "metadata": {},
   "source": [
    "#### Dropping any null values"
   ]
  },
  {
   "cell_type": "code",
   "execution_count": 77,
   "metadata": {
    "application/vnd.databricks.v1+cell": {
     "inputWidgets": {},
     "nuid": "9e1b135b-501a-4fbb-b613-03fc7c7653ee",
     "showTitle": false,
     "title": ""
    }
   },
   "outputs": [],
   "source": [
    "df_isClick1 = df_isClick1.na.drop()"
   ]
  },
  {
   "cell_type": "markdown",
   "metadata": {},
   "source": [
    "### Intializing a Vector Assembler"
   ]
  },
  {
   "cell_type": "code",
   "execution_count": 98,
   "metadata": {},
   "outputs": [],
   "source": [
    "assembler = VectorAssembler(inputCols = ['Position',\n",
    " 'ObjectType',\n",
    " 'Price',\n",
    " 'IsContext',\n",
    " 'Level',\n",
    " 'ParentCategoryID',\n",
    " 'SubcategoryID',\n",
    " 'IsUserLoggedOn',\n",
    " 'UserDeviceID',\n",
    " 'UserAgentFamilyID'] ,outputCol = 'features')"
   ]
  },
  {
   "cell_type": "markdown",
   "metadata": {},
   "source": [
    "### Vectorizing the Features"
   ]
  },
  {
   "cell_type": "code",
   "execution_count": 99,
   "metadata": {},
   "outputs": [],
   "source": [
    "df_isClick1_features = assembler.transform(df_isClick1)"
   ]
  },
  {
   "cell_type": "code",
   "execution_count": 102,
   "metadata": {},
   "outputs": [
    {
     "name": "stdout",
     "output_type": "stream",
     "text": [
      "+--------+----------+-----+---------+-----+----------------+-------------+--------------+-----------+-------------+------------+-----------------+-------+--------------------+\n",
      "|Position|ObjectType|Price|IsContext|Level|ParentCategoryID|SubcategoryID|IsUserLoggedOn|UserAgentID|UserAgentOSID|UserDeviceID|UserAgentFamilyID|IsClick|            features|\n",
      "+--------+----------+-----+---------+-----+----------------+-------------+--------------+-----------+-------------+------------+-----------------+-------+--------------------+\n",
      "|       7|         3|  750|        1|    3|              12|           42|             0|       2764|           20|        2014|               62|      0|[7.0,3.0,750.0,1....|\n",
      "|       1|         3|17700|        1|    3|              12|           42|             0|       2764|           20|        2014|               62|      0|[1.0,3.0,17700.0,...|\n",
      "|       1|         3|37990|        1|    3|              12|           42|             0|       2764|           20|        2014|               62|      0|[1.0,3.0,37990.0,...|\n",
      "|       1|         3| 3850|        1|    3|              12|           42|             0|       2764|           20|        2014|               62|      0|[1.0,3.0,3850.0,1...|\n",
      "|       7|         3| 3490|        1|    3|              12|           42|             0|       2764|           20|        2014|               62|      0|[7.0,3.0,3490.0,1...|\n",
      "|       7|         3| 2500|        1|    3|               6|            7|             0|      57749|           15|        2014|               43|      0|[7.0,3.0,2500.0,1...|\n",
      "|       1|         3| 6000|        1|    3|               6|            7|             0|      57749|           15|        2014|               43|      0|[1.0,3.0,6000.0,1...|\n",
      "|       1|         3| 1500|        1|    3|               6|            7|             0|      57749|           15|        2014|               43|      0|[1.0,3.0,1500.0,1...|\n",
      "|       7|         3| 6500|        1|    3|               6|            7|             0|      57749|           15|        2014|               43|      0|[7.0,3.0,6500.0,1...|\n",
      "|       1|         3| 1500|        1|    3|               6|            7|             0|      57749|           15|        2014|               43|      0|[1.0,3.0,1500.0,1...|\n",
      "|       7|         3| 6500|        1|    3|               6|            7|             0|      57749|           15|        2014|               43|      0|[7.0,3.0,6500.0,1...|\n",
      "|       1|         3| 2000|        1|    3|               6|            7|             0|      57749|           15|        2014|               43|      0|[1.0,3.0,2000.0,1...|\n",
      "|       7|         3| 3500|        1|    3|               6|            7|             0|      57749|           15|        2014|               43|      0|[7.0,3.0,3500.0,1...|\n",
      "|       1|         3| 1500|        1|    3|               6|            7|             0|      57749|           15|        2014|               43|      0|[1.0,3.0,1500.0,1...|\n",
      "|       7|         3| 6500|        1|    3|               6|            7|             0|      57749|           15|        2014|               43|      0|[7.0,3.0,6500.0,1...|\n",
      "|       1|         3|10000|        1|    3|               6|            7|             0|      57749|           15|        2014|               43|      0|[1.0,3.0,10000.0,...|\n",
      "|       7|         3| 5870|        1|    3|               6|            7|             0|      57749|           15|        2014|               43|      0|[7.0,3.0,5870.0,1...|\n",
      "|       7|         3| 2500|        1|    3|               6|            7|             0|      57749|           15|        2014|               43|      0|[7.0,3.0,2500.0,1...|\n",
      "|       1|         3| 6000|        1|    3|               6|            7|             0|      57749|           15|        2014|               43|      0|[1.0,3.0,6000.0,1...|\n",
      "|       1|         3| 6000|        1|    3|               6|            7|             0|      57749|           15|        2014|               43|      0|[1.0,3.0,6000.0,1...|\n",
      "+--------+----------+-----+---------+-----+----------------+-------------+--------------+-----------+-------------+------------+-----------------+-------+--------------------+\n",
      "only showing top 20 rows\n",
      "\n"
     ]
    }
   ],
   "source": [
    "df_isClick1_features.cache()\n",
    "df_isClick1_features.show()"
   ]
  },
  {
   "cell_type": "markdown",
   "metadata": {},
   "source": [
    "## Logistic Regression"
   ]
  },
  {
   "cell_type": "code",
   "execution_count": 78,
   "metadata": {
    "application/vnd.databricks.v1+cell": {
     "inputWidgets": {},
     "nuid": "4622e7c0-40fa-4ad3-9fb0-000a1b3df57f",
     "showTitle": false,
     "title": ""
    }
   },
   "outputs": [],
   "source": [
    "log_reg_click = LogisticRegression(featuresCol='features',labelCol='IsClick')"
   ]
  },
  {
   "cell_type": "markdown",
   "metadata": {},
   "source": [
    "#### Fitting and Testing"
   ]
  },
  {
   "cell_type": "code",
   "execution_count": 103,
   "metadata": {
    "application/vnd.databricks.v1+cell": {
     "inputWidgets": {},
     "nuid": "70d04de7-dc9f-4799-997a-2841e019d5d5",
     "showTitle": false,
     "title": ""
    }
   },
   "outputs": [],
   "source": [
    "train_data,test_data = df_isClick1_features.randomSplit([0.8,0.2])"
   ]
  },
  {
   "cell_type": "code",
   "execution_count": 87,
   "metadata": {
    "application/vnd.databricks.v1+cell": {
     "inputWidgets": {},
     "nuid": "ca2ab3e5-1a27-48a0-8c4b-762b0fd263ba",
     "showTitle": false,
     "title": ""
    }
   },
   "outputs": [],
   "source": [
    "fit = log_reg_click.fit(train_data)"
   ]
  },
  {
   "cell_type": "code",
   "execution_count": 88,
   "metadata": {
    "application/vnd.databricks.v1+cell": {
     "inputWidgets": {},
     "nuid": "e0fb0d0f-deb5-4410-ae3b-d5029b2c2c5c",
     "showTitle": false,
     "title": ""
    }
   },
   "outputs": [],
   "source": [
    "results = fit.transform(test_data)"
   ]
  },
  {
   "cell_type": "markdown",
   "metadata": {},
   "source": [
    "### Evaluating the Model"
   ]
  },
  {
   "cell_type": "code",
   "execution_count": 90,
   "metadata": {
    "application/vnd.databricks.v1+cell": {
     "inputWidgets": {},
     "nuid": "94611a06-6d49-475f-b3cb-429b663d7c35",
     "showTitle": false,
     "title": ""
    }
   },
   "outputs": [],
   "source": [
    "my_evaluator = BinaryClassificationEvaluator(rawPredictionCol = 'prediction',labelCol = 'IsClick')"
   ]
  },
  {
   "cell_type": "code",
   "execution_count": 91,
   "metadata": {
    "application/vnd.databricks.v1+cell": {
     "inputWidgets": {},
     "nuid": "a19ddb35-8828-454e-baf7-a0cdf76e387b",
     "showTitle": false,
     "title": ""
    }
   },
   "outputs": [],
   "source": [
    "AUC = my_evaluator.evaluate(results)"
   ]
  },
  {
   "cell_type": "code",
   "execution_count": 92,
   "metadata": {},
   "outputs": [
    {
     "data": {
      "text/plain": [
       "0.5"
      ]
     },
     "execution_count": 92,
     "metadata": {},
     "output_type": "execute_result"
    }
   ],
   "source": [
    "AUC"
   ]
  },
  {
   "cell_type": "markdown",
   "metadata": {},
   "source": [
    "## Random Forest Classifier"
   ]
  },
  {
   "cell_type": "code",
   "execution_count": 104,
   "metadata": {},
   "outputs": [],
   "source": [
    "rf = RandomForestClassifier(labelCol=\"IsClick\", \\\n",
    "                            featuresCol=\"features\", \\\n",
    "                            numTrees = 100, \\\n",
    "                            maxDepth = 4, \\\n",
    "                            maxBins = 32)"
   ]
  },
  {
   "cell_type": "markdown",
   "metadata": {},
   "source": [
    "#### Fitting and Testing "
   ]
  },
  {
   "cell_type": "code",
   "execution_count": 105,
   "metadata": {},
   "outputs": [],
   "source": [
    "rfModel = rf.fit(train_data)"
   ]
  },
  {
   "cell_type": "code",
   "execution_count": 106,
   "metadata": {},
   "outputs": [],
   "source": [
    "predictions = rfModel.transform(test_data)"
   ]
  },
  {
   "cell_type": "markdown",
   "metadata": {},
   "source": [
    "### Evaluating the model"
   ]
  },
  {
   "cell_type": "code",
   "execution_count": 115,
   "metadata": {},
   "outputs": [],
   "source": [
    "evaluator = MulticlassClassificationEvaluator(predictionCol=\"prediction\",labelCol = 'IsClick')\n",
    "\n",
    "rd_metrics = evaluator.evaluate(predictions)"
   ]
  },
  {
   "cell_type": "code",
   "execution_count": 116,
   "metadata": {},
   "outputs": [
    {
     "data": {
      "text/plain": [
       "0.9909451671709945"
      ]
     },
     "execution_count": 116,
     "metadata": {},
     "output_type": "execute_result"
    }
   ],
   "source": [
    "rd_metrics"
   ]
  },
  {
   "cell_type": "markdown",
   "metadata": {},
   "source": [
    "## Plotting the Metrics"
   ]
  },
  {
   "cell_type": "code",
   "execution_count": 130,
   "metadata": {},
   "outputs": [
    {
     "data": {
      "image/png": "[encoded data removed]",
      "text/plain": [
       "<Figure size 500x500 with 1 Axes>"
      ]
     },
     "metadata": {},
     "output_type": "display_data"
    }
   ],
   "source": [
    "names = ['Logistic Regression', 'Random Forest Classifier']\n",
    "values = [AUC,rd_metrics]\n",
    "\n",
    "plt.figure(figsize=(5, 5))\n",
    "\n",
    "se.lineplot(x = names, y = values,hue=\"region\", style=\"event\")\n",
    "plt.suptitle('Metric Comparison')\n",
    "plt.show()"
   ]
  },
  {
   "cell_type": "markdown",
   "metadata": {},
   "source": [
    "### Clearly, We see that random Forest Classifier is the better model"
   ]
  },
  {
   "cell_type": "markdown",
   "metadata": {},
   "source": [
    "#### Stopping the spark session"
   ]
  },
  {
   "cell_type": "code",
   "execution_count": null,
   "metadata": {},
   "outputs": [],
   "source": [
    "spark.stop()"
   ]
  }
 ],
 "metadata": {
  "application/vnd.databricks.v1+notebook": {
   "dashboards": [],
   "language": "python",
   "notebookMetadata": {
    "pythonIndentUnit": 2
   },
   "notebookName": "finalproject",
   "notebookOrigID": 2664221556029556,
   "widgets": {}
  },
  "kernelspec": {
   "display_name": "Python 3",
   "language": "python",
   "name": "python3"
  },
  "language_info": {
   "codemirror_mode": {
    "name": "ipython",
    "version": 3
   },
   "file_extension": ".py",
   "mimetype": "text/x-python",
   "name": "python",
   "nbconvert_exporter": "python",
   "pygments_lexer": "ipython3",
   "version": "3.7.10"
  }
 },
 "nbformat": 4,
 "nbformat_minor": 4
}
